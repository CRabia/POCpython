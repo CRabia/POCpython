{
 "cells": [
  {
   "cell_type": "code",
   "execution_count": 3,
   "metadata": {},
   "outputs": [
    {
     "name": "stdout",
     "output_type": "stream",
     "text": [
      "Date de naissance: 1/1/1900\n",
      "\n",
      "\n",
      "Prénom: Jean\n",
      "Nom: Dupont\n",
      "Date de naissance: 1/1/1900\n",
      "\n",
      "\n",
      "Prénom: John\n",
      "Nom: Snow\n",
      "Date de naissance: 31/3/1996\n",
      "Salaire: 2000\n",
      "\n",
      "\n",
      "Prénom: Aria\n",
      "Nom: Stark\n",
      "Date de naissance: 31/3/1996\n",
      "Salaire: 3000\n",
      "Service: Chomeur\n"
     ]
    }
   ],
   "source": [
    "class DateNaissance:\n",
    "    def __init__(self, day=1, month=1, year=1900):\n",
    "        self.day = day\n",
    "        self.month = month\n",
    "        self.year = year\n",
    "    \n",
    "    def toString(self):\n",
    "        print(\"Date de naissance: %s/%s/%s\"%(self.day,self.month,self.year))\n",
    "        \n",
    "class Personne:\n",
    "    def __init__(self, firstname=\"Jean\", lastname=\"Dupont\", dateNaissance=DateNaissance()):\n",
    "        self.firstname = firstname\n",
    "        self.lastname = lastname\n",
    "        self.dateNaissance = dateNaissance\n",
    "    \n",
    "    def display(self):\n",
    "        print(\"Prénom: %s\"%(self.firstname))\n",
    "        print(\"Nom: %s\"%(self.lastname))\n",
    "        self.dateNaissance.toString()\n",
    "        \n",
    "class Employe(Personne):\n",
    "    def __init__(self, firstname, lastname, dateNaissance, salaire):\n",
    "        Personne.__init__(self,firstname,lastname,dateNaissance)\n",
    "        self.salaire = salaire\n",
    "        \n",
    "    def display(self):\n",
    "        Personne.display(self)\n",
    "        print(\"Salaire: %s\"%self.salaire)\n",
    "        \n",
    "class Chef(Employe):\n",
    "    def __init__(self, firsname, lastname, dateNaissance, salaire, service):\n",
    "        Employe.__init__(self, firsname, lastname, dateNaissance, salaire)\n",
    "        self.service = service\n",
    "        \n",
    "    def display(self):\n",
    "        Employe.display(self)\n",
    "        print(\"Service: %s\"%(self.service))\n",
    "        \n",
    "date1 = DateNaissance()\n",
    "date1.toString()\n",
    "print(\"\\n\")\n",
    "\n",
    "date2 = DateNaissance(31,3,1996)\n",
    "p = Personne()\n",
    "p.display()\n",
    "print(\"\\n\")\n",
    "\n",
    "employee1 = Employe(\"John\", \"Snow\", date2, 2000)\n",
    "employee1.display()\n",
    "print(\"\\n\")\n",
    "\n",
    "c1 = Chef(\"Aria\", \"Stark\", date2, 3000, \"Chomeur\")\n",
    "c1.display()"
   ]
  },
  {
   "cell_type": "code",
   "execution_count": null,
   "metadata": {},
   "outputs": [],
   "source": []
  }
 ],
 "metadata": {
  "kernelspec": {
   "display_name": "Python 3",
   "language": "python",
   "name": "python3"
  },
  "language_info": {
   "codemirror_mode": {
    "name": "ipython",
    "version": 3
   },
   "file_extension": ".py",
   "mimetype": "text/x-python",
   "name": "python",
   "nbconvert_exporter": "python",
   "pygments_lexer": "ipython3",
   "version": "3.6.9"
  }
 },
 "nbformat": 4,
 "nbformat_minor": 2
}
