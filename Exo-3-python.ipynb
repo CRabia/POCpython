{
 "cells": [
  {
   "cell_type": "code",
   "execution_count": 1,
   "metadata": {},
   "outputs": [
    {
     "name": "stdout",
     "output_type": "stream",
     "text": [
      "Date de naissance: 1/1/1900\n",
      "\n",
      "\n",
      "Prénom: Jean\n",
      "Nom: Dupont\n",
      "Date de naissance: 1/1/1900\n",
      "\n",
      "\n"
     ]
    },
    {
     "ename": "AttributeError",
     "evalue": "type object 'Personne' has no attribute 'afficher'",
     "output_type": "error",
     "traceback": [
      "\u001b[0;31m---------------------------------------------------------------------------\u001b[0m",
      "\u001b[0;31mAttributeError\u001b[0m                            Traceback (most recent call last)",
      "\u001b[0;32m<ipython-input-1-5a35e6251d18>\u001b[0m in \u001b[0;36m<module>\u001b[0;34m\u001b[0m\n\u001b[1;32m     47\u001b[0m \u001b[0;34m\u001b[0m\u001b[0m\n\u001b[1;32m     48\u001b[0m \u001b[0memployee1\u001b[0m \u001b[0;34m=\u001b[0m \u001b[0mEmploye\u001b[0m\u001b[0;34m(\u001b[0m\u001b[0;34m\"John\"\u001b[0m\u001b[0;34m,\u001b[0m \u001b[0;34m\"Snow\"\u001b[0m\u001b[0;34m,\u001b[0m \u001b[0mdate2\u001b[0m\u001b[0;34m,\u001b[0m \u001b[0;36m2000\u001b[0m\u001b[0;34m)\u001b[0m\u001b[0;34m\u001b[0m\u001b[0;34m\u001b[0m\u001b[0m\n\u001b[0;32m---> 49\u001b[0;31m \u001b[0memployee1\u001b[0m\u001b[0;34m.\u001b[0m\u001b[0mdisplay\u001b[0m\u001b[0;34m(\u001b[0m\u001b[0;34m)\u001b[0m\u001b[0;34m\u001b[0m\u001b[0;34m\u001b[0m\u001b[0m\n\u001b[0m\u001b[1;32m     50\u001b[0m \u001b[0mprint\u001b[0m\u001b[0;34m(\u001b[0m\u001b[0;34m\"\\n\"\u001b[0m\u001b[0;34m)\u001b[0m\u001b[0;34m\u001b[0m\u001b[0;34m\u001b[0m\u001b[0m\n\u001b[1;32m     51\u001b[0m \u001b[0;34m\u001b[0m\u001b[0m\n",
      "\u001b[0;32m<ipython-input-1-5a35e6251d18>\u001b[0m in \u001b[0;36mdisplay\u001b[0;34m(self)\u001b[0m\n\u001b[1;32m     25\u001b[0m \u001b[0;34m\u001b[0m\u001b[0m\n\u001b[1;32m     26\u001b[0m     \u001b[0;32mdef\u001b[0m \u001b[0mdisplay\u001b[0m\u001b[0;34m(\u001b[0m\u001b[0mself\u001b[0m\u001b[0;34m)\u001b[0m\u001b[0;34m:\u001b[0m\u001b[0;34m\u001b[0m\u001b[0;34m\u001b[0m\u001b[0m\n\u001b[0;32m---> 27\u001b[0;31m         \u001b[0mPersonne\u001b[0m\u001b[0;34m.\u001b[0m\u001b[0mafficher\u001b[0m\u001b[0;34m(\u001b[0m\u001b[0mself\u001b[0m\u001b[0;34m)\u001b[0m\u001b[0;34m\u001b[0m\u001b[0;34m\u001b[0m\u001b[0m\n\u001b[0m\u001b[1;32m     28\u001b[0m         \u001b[0mprint\u001b[0m\u001b[0;34m(\u001b[0m\u001b[0;34m\"Salaire: %s\"\u001b[0m\u001b[0;34m%\u001b[0m\u001b[0mself\u001b[0m\u001b[0;34m.\u001b[0m\u001b[0msalaire\u001b[0m\u001b[0;34m)\u001b[0m\u001b[0;34m\u001b[0m\u001b[0;34m\u001b[0m\u001b[0m\n\u001b[1;32m     29\u001b[0m \u001b[0;34m\u001b[0m\u001b[0m\n",
      "\u001b[0;31mAttributeError\u001b[0m: type object 'Personne' has no attribute 'afficher'"
     ]
    }
   ],
   "source": [
    "class DateNaissance:\n",
    "    def __init__(self, day=1, month=1, year=1900):\n",
    "        self.day = day\n",
    "        self.month = month\n",
    "        self.year = year\n",
    "    \n",
    "    def toString(self):\n",
    "        print(\"Date de naissance: %s/%s/%s\"%(self.day,self.month,self.year))\n",
    "        \n",
    "class Personne:\n",
    "    def __init__(self, firstname=\"Jean\", lastname=\"Dupont\", dateNaissance=DateNaissance()):\n",
    "        self.firstname = firstname\n",
    "        self.lastname = lastname\n",
    "        self.dateNaissance = dateNaissance\n",
    "    \n",
    "    def display(self):\n",
    "        print(\"Prénom: %s\"%(self.firstname))\n",
    "        print(\"Nom: %s\"%(self.lastname))\n",
    "        self.dateNaissance.toString()\n",
    "        \n",
    "class Employe(Personne):\n",
    "    def __init__(self, firstname, lastname, dateNaissance, salaire):\n",
    "        Personne.__init__(self,firstname,lastname,dateNaissance)\n",
    "        self.salaire = salaire\n",
    "        \n",
    "    def display(self):\n",
    "        Personne.afficher(self)\n",
    "        print(\"Salaire: %s\"%self.salaire)\n",
    "        \n",
    "class Chef(Employe):\n",
    "    def __init__(self, firsname, lastname, dateNaissance, salaire, service):\n",
    "        Employe.__init__(self, firsname, lastname, dateNaissance, salaire)\n",
    "        self.service = service\n",
    "        \n",
    "    def display(self):\n",
    "        Employe.afficher(self)\n",
    "        print(\"Service: %s\"%(self.service))\n",
    "        \n",
    "date1 = DateNaissance()\n",
    "date1.toString()\n",
    "print(\"\\n\")\n",
    "\n",
    "date2 = DateNaissance(31,3,1996)\n",
    "p = Personne()\n",
    "p.display()\n",
    "print(\"\\n\")\n",
    "\n",
    "employee1 = Employe(\"John\", \"Snow\", date2, 2000)\n",
    "employee1.display()\n",
    "print(\"\\n\")\n",
    "\n",
    "c1 = Chef(\"Aria\", \"Stark\", date2, 3000, \"Chomeur\")\n",
    "c1.display()"
   ]
  },
  {
   "cell_type": "code",
   "execution_count": null,
   "metadata": {},
   "outputs": [],
   "source": []
  }
 ],
 "metadata": {
  "kernelspec": {
   "display_name": "Python 3",
   "language": "python",
   "name": "python3"
  },
  "language_info": {
   "codemirror_mode": {
    "name": "ipython",
    "version": 3
   },
   "file_extension": ".py",
   "mimetype": "text/x-python",
   "name": "python",
   "nbconvert_exporter": "python",
   "pygments_lexer": "ipython3",
   "version": "3.6.9"
  }
 },
 "nbformat": 4,
 "nbformat_minor": 2
}
