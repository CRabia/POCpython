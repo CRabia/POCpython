{
 "cells": [
  {
   "cell_type": "code",
   "execution_count": 8,
   "metadata": {},
   "outputs": [
    {
     "name": "stdout",
     "output_type": "stream",
     "text": [
      "Compte bancaire de John Snow: solde => 10000.00 €\n",
      "Compte bancaire de John Snow: solde => 1010000.00 €\n",
      "Compte bancaire de John Snow: solde => 983397.00 €\n"
     ]
    }
   ],
   "source": [
    "class CompteBancaire:\n",
    "     \n",
    "    def __init__(self,firstname='John',lastname='Snow',solde=10000):\n",
    "        self.firstname=firstname\n",
    "        self.lastname=lastname \n",
    "        self.solde=solde \n",
    "        \n",
    "    def display(self):\n",
    "        print(\"Compte bancaire de %s %s: solde => %.2f €\"%(self.firstname,self.lastname, self.solde))\n",
    "        \n",
    "    def depot(self,value):\n",
    "        self.solde+=value\n",
    "        \n",
    "    def retrait(self,value):\n",
    "        self.solde-=value\n",
    "        \n",
    "compte = CompteBancaire();\n",
    "compte.display()\n",
    "compte.depot(1000000)\n",
    "compte.display()\n",
    "compte.retrait(26603)\n",
    "compte.display()"
   ]
  },
  {
   "cell_type": "code",
   "execution_count": null,
   "metadata": {},
   "outputs": [],
   "source": []
  }
 ],
 "metadata": {
  "kernelspec": {
   "display_name": "Python 3",
   "language": "python",
   "name": "python3"
  },
  "language_info": {
   "codemirror_mode": {
    "name": "ipython",
    "version": 3
   },
   "file_extension": ".py",
   "mimetype": "text/x-python",
   "name": "python",
   "nbconvert_exporter": "python",
   "pygments_lexer": "ipython3",
   "version": "3.6.9"
  }
 },
 "nbformat": 4,
 "nbformat_minor": 2
}
