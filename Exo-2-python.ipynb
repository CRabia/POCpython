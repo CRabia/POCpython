{
 "cells": [
  {
   "cell_type": "code",
   "execution_count": 6,
   "metadata": {},
   "outputs": [
    {
     "name": "stdout",
     "output_type": "stream",
     "text": [
      "P(x=1, y=2)\n",
      "P(x=2, y=5, z=3)\n"
     ]
    }
   ],
   "source": [
    "class Point:\n",
    "    def __init__(self, x=0, y=0, z= None):\n",
    "        self.x=x\n",
    "        self.y=y\n",
    "        self.z=z\n",
    "\n",
    "    def toString(self):\n",
    "       print(\"P(x=%s, y=%s)\"%(self.x,self.y)) if self.z == None else print(\"P(x=%s, y=%s, z=%s)\"%(self.x,self.y,self.z))\n",
    "       \n",
    "        \n",
    "p1 = Point(1,2)\n",
    "p1.toString()\n",
    "\n",
    "p2 = Point(2,5,3)\n",
    "p2.toString()"
   ]
  },
  {
   "cell_type": "code",
   "execution_count": null,
   "metadata": {},
   "outputs": [],
   "source": []
  }
 ],
 "metadata": {
  "kernelspec": {
   "display_name": "Python 3",
   "language": "python",
   "name": "python3"
  },
  "language_info": {
   "codemirror_mode": {
    "name": "ipython",
    "version": 3
   },
   "file_extension": ".py",
   "mimetype": "text/x-python",
   "name": "python",
   "nbconvert_exporter": "python",
   "pygments_lexer": "ipython3",
   "version": "3.6.9"
  }
 },
 "nbformat": 4,
 "nbformat_minor": 2
}
